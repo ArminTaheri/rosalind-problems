{
 "cells": [
  {
   "cell_type": "code",
   "execution_count": null,
   "metadata": {
    "collapsed": false
   },
   "outputs": [],
   "source": [
    "from Bio import SeqIO\n",
    "\n",
    "fasta_sequences = SeqIO.parse(open(\"rosalind_gc.txt\"), 'fasta')\n",
    "\n",
    "seqs = []\n",
    "for fasta in fasta_sequences:\n",
    "    name, sequence = fasta.id, fasta.seq.tostring()\n",
    "    seqs.append((name, sequence))\n",
    "\n",
    "def gc(seqn):\n",
    "    name, seqnc = seqn\n",
    "    gconly = [z for z in seqnc if z in ['G', 'C']]\n",
    "    return (name, 100.0 * len(gconly) / float(len(seqnc)))\n",
    "\n",
    "print(\"%s\\n%s\" % max(map(gc, seqs), key=lambda z: z[1]))\n"
   ]
  },
  {
   "cell_type": "code",
   "execution_count": null,
   "metadata": {
    "collapsed": false
   },
   "outputs": [],
   "source": [
    "def hamming(seqs):\n",
    "    xs, ys = seqs\n",
    "    return len([(x,y) for x,y in zip(xs, ys) if x != y])\n"
   ]
  },
  {
   "cell_type": "code",
   "execution_count": null,
   "metadata": {
    "collapsed": false
   },
   "outputs": [],
   "source": [
    "def countpairwise(n):\n",
    "    return n*(n-1)/2.0\n",
    "\n",
    "def mendel(k,m,n):\n",
    "    total = countpairwise(k+m+n)\n",
    "    \n",
    "    i1 = k*m + k*n + (2/4)*m*n\n",
    "    i2 = countpairwise(k)\n",
    "    i3 = countpairwise(m) * (3.0 / 4.0)\n",
    "    return (i1+i2+i3)/total\n",
    "\n",
    "mendel(26, 28, 26)"
   ]
  },
  {
   "cell_type": "code",
   "execution_count": null,
   "metadata": {
    "collapsed": false
   },
   "outputs": [],
   "source": [
    "rnaToP = {\n",
    "  \"UUU\": \"F\",\n",
    "  \"CUU\": \"L\",\n",
    "  \"AUU\": \"I\",\n",
    "  \"GUU\": \"V\",\n",
    "  \"UUC\": \"F\",\n",
    "  \"CUC\": \"L\",\n",
    "  \"AUC\": \"I\",\n",
    "  \"GUC\": \"V\",\n",
    "  \"UUA\": \"L\",\n",
    "  \"CUA\": \"L\",\n",
    "  \"AUA\": \"I\",\n",
    "  \"GUA\": \"V\",\n",
    "  \"UUG\": \"L\",\n",
    "  \"CUG\": \"L\",\n",
    "  \"AUG\": \"M\",\n",
    "  \"GUG\": \"V\",\n",
    "  \"UCU\": \"S\",\n",
    "  \"CCU\": \"P\",\n",
    "  \"ACU\": \"T\",\n",
    "  \"GCU\": \"A\",\n",
    "  \"UCC\": \"S\",\n",
    "  \"CCC\": \"P\",\n",
    "  \"ACC\": \"T\",\n",
    "  \"GCC\": \"A\",\n",
    "  \"UCA\": \"S\",\n",
    "  \"CCA\": \"P\",\n",
    "  \"ACA\": \"T\",\n",
    "  \"GCA\": \"A\",\n",
    "  \"UCG\": \"S\",\n",
    "  \"CCG\": \"P\",\n",
    "  \"ACG\": \"T\",\n",
    "  \"GCG\": \"A\",\n",
    "  \"UAU\": \"Y\",\n",
    "  \"CAU\": \"H\",\n",
    "  \"AAU\": \"N\",\n",
    "  \"GAU\": \"D\",\n",
    "  \"UAC\": \"Y\",\n",
    "  \"CAC\": \"H\",\n",
    "  \"AAC\": \"N\",\n",
    "  \"GAC\": \"D\",\n",
    "  \"UAA\": \"Stop\",\n",
    "  \"CAA\": \"Q\",\n",
    "  \"AAA\": \"K\",\n",
    "  \"GAA\": \"E\",\n",
    "  \"UAG\": \"Stop\",\n",
    "  \"CAG\": \"Q\",\n",
    "  \"AAG\": \"K\",\n",
    "  \"GAG\": \"E\",\n",
    "  \"UGU\": \"C\",\n",
    "  \"CGU\": \"R\",\n",
    "  \"AGU\": \"S\",\n",
    "  \"GGU\": \"G\",\n",
    "  \"UGC\": \"C\",\n",
    "  \"CGC\": \"R\",\n",
    "  \"AGC\": \"S\",\n",
    "  \"GGC\": \"G\",\n",
    "  \"UGA\": \"Stop\",\n",
    "  \"CGA\": \"R\",\n",
    "  \"AGA\": \"R\",\n",
    "  \"GGA\": \"G\",\n",
    "  \"UGG\": \"W\",\n",
    "  \"CGG\": \"R\",\n",
    "  \"AGG\": \"R\",\n",
    "  \"GGG\": \"G\"\n",
    "}\n",
    "\n",
    "def translate(seqc,acc):\n",
    "    if len(seqc) < 3:\n",
    "        return True, acc \n",
    "    triple = ''.join(seqc[0:3])\n",
    "    prot = rnaToP[triple]\n",
    "    if prot == \"Stop\":\n",
    "        return True, acc \n",
    "    return seqc[3:len(seqc)], acc + [prot]\n",
    "\n",
    "f = open(\"rosalind_prot.txt\")\n",
    "seqc = f.read()\n",
    "acc = []\n",
    "while seqc != True:\n",
    "    seqc, acc = translate(seqc, acc)\n",
    "f.close()\n",
    "\n",
    "''.join(acc)"
   ]
  },
  {
   "cell_type": "code",
   "execution_count": null,
   "metadata": {
    "collapsed": false
   },
   "outputs": [],
   "source": [
    "def findin(haystack, pin):\n",
    "    print(haystack.rstrip())\n",
    "    print(pin.rstrip())\n",
    "    i = haystack.find(pin)\n",
    "    res = []\n",
    "    while i != -1:\n",
    "        res = res + [i + len(res)]\n",
    "        haystack = haystack[1:len(haystack)]\n",
    "        i = haystack.find(pin)\n",
    "    return [x+1 for x in list(set(res))]\n",
    "\n",
    "f = open(\"rosalind_subs.txt\")\n",
    "haystack = f.readline().rstrip()\n",
    "pin = f.readline().rstrip()\n",
    "res = ' '.join([str(x) for x in findin(haystack, pin)])\n",
    "f.close()\n",
    "res"
   ]
  },
  {
   "cell_type": "code",
   "execution_count": null,
   "metadata": {
    "collapsed": false,
    "scrolled": true
   },
   "outputs": [],
   "source": [
    "from Bio import SeqIO\n",
    "\n",
    "fasta_sequences = SeqIO.parse(open(\"rosalind_cons.txt\"), 'fasta')\n",
    "strands = [list(str(fasta.seq)) for fasta in fasta_sequences]\n",
    "\n",
    "def c(key, col):\n",
    "   return str(len([x for x in col if x == key]))\n",
    "\n",
    "nucleotides = ['A', 'C', 'G', 'T']\n",
    "profmat = [[c('A', x), c('C', x), c('G', x), c('T', x)]\n",
    "            for x in zip(*strands)]\n",
    "consensus = [nucleotides[l.index(max(l))] for l in profmat]\n",
    "profmat = zip(nucleotides, zip(*profmat))\n",
    "\n",
    "print(\"\".join(consensus))\n",
    "print(\"\\n\".join([k + \": \" + ' '.join(v) for k,v in profmat]))"
   ]
  },
  {
   "cell_type": "code",
   "execution_count": null,
   "metadata": {
    "collapsed": false
   },
   "outputs": [],
   "source": [
    "def mortal_rabbits(months, expectency):\n",
    "    seqc = [1,1]\n",
    "    while len(seqc) < months:\n",
    "        nex = sum(seqc[-2:])\n",
    "        if len(seqc) == expectency:\n",
    "            nex -= seqc[-expectency] \n",
    "        elif len(seqc) > expectency:\n",
    "            nex -= seqc[-(expectency+1)]\n",
    "        seqc.append(nex)\n",
    "    return seqc[-1]\n",
    "mortal_rabbits(88, 18)"
   ]
  },
  {
   "cell_type": "code",
   "execution_count": null,
   "metadata": {
    "collapsed": false,
    "scrolled": true
   },
   "outputs": [],
   "source": [
    "from Bio import SeqIO\n",
    "\n",
    "fasta_sequences = SeqIO.parse(open(\"rosalind_grph.txt\"), 'fasta')\n",
    "strands = [(fasta.id, str(fasta.seq)) for fasta in fasta_sequences]\n",
    "\n",
    "def connected(x,y,k):\n",
    "    return x != y and x[-k:] == y[:k] \n",
    "\n",
    "graph = [(x[0],y[0]) \n",
    "         for x in strands \n",
    "         for y in strands \n",
    "         if connected(x[1],y[1],3)]\n",
    "\n",
    "print(\"\\n\".join([\"%s %s\" % e for e in graph]))"
   ]
  },
  {
   "cell_type": "code",
   "execution_count": null,
   "metadata": {
    "collapsed": false
   },
   "outputs": [],
   "source": [
    "domProbs = [1.0, 1.0, 1.0, 0.75, 0.5, 0]\n",
    "\n",
    "def expectation(pops, offSpring):\n",
    "    return offSpring * sum([pop * p for (pop, p) in zip(pops, domProbs)])\n",
    "\n",
    "expectation([18855, 19867, 18691, 19126, 17045, 16627], 2)"
   ]
  },
  {
   "cell_type": "code",
   "execution_count": 12,
   "metadata": {
    "collapsed": false
   },
   "outputs": [
    {
     "data": {
      "text/plain": [
       "'TTACCAATTCGCTTAATCTATGTTACGTATTCGAGAGAAGAATATTTGACAAGAAAAGTTGTTGCCCGCAGGTTTCATCCTGGCGCCAGATAATAAAATGATGTTATACCTAAGCTCGGACTACAGATAACCAAGAAAAGATGGCAACCGCACGAGAGCACACTCGCCTATTACATAGGTGGCTTTGGGGAGACACTGTTACCTACGGCCATACTGTGGTATGCCTGGACCCAAACACATGCACGACTCGGGTAGGTTGCTCCACGTACAAGCTCACTCATTACGACA'"
      ]
     },
     "execution_count": 12,
     "metadata": {},
     "output_type": "execute_result"
    }
   ],
   "source": [
    "from itertools import product\n",
    "from functools import reduce\n",
    "from Bio import SeqIO\n",
    "\n",
    "def lcs(s1, s2):\n",
    "    if not s1 or not s2:\n",
    "        return [\"\"]\n",
    "\n",
    "    memo = [[None for x in range(len(s2)+1)] for j in range(len(s1)+1)]\n",
    "    memo[0] = [0 for _ in memo[0]]\n",
    "    for m in memo:\n",
    "        m[0] = 0\n",
    " \n",
    "    longest_i = [] \n",
    "    mx = -1\n",
    "    for i in range(1,len(s1)+1):\n",
    "        for j in range(1,len(s2)+1):\n",
    "            if s1[i-1] == s2[j-1]:\n",
    "                memo[i][j] = memo[i-1][j-1] + 1\n",
    "                if memo[i][j] == mx:\n",
    "                    longest_i.append(i-1)\n",
    "                elif memo[i][j] > mx:\n",
    "                    mx = memo[i][j]\n",
    "                    longest_i = [i-1]\n",
    "            else:\n",
    "                memo[i][j] = 0\n",
    "    \n",
    "    mx = max([max(l) for l in memo])\n",
    "    return [s1[(li-mx+1):(li+1)]\n",
    "            for li in longest_i \n",
    "            if mx >= 0]\n",
    "\n",
    "def multilcs(strs):\n",
    "    lcss = [lcs(s1,s2) for s1,s2 in product(strs,strs) if s1 != s2]\n",
    "    lcss = set([i for l in lcss for i in l])\n",
    "    minlen = min([len(x) for x in lcss])\n",
    "    minlcs = [x for x in lcss if len(x) == minlen]\n",
    "    otherlcs = [x for x in lcss if x != minlen]\n",
    "        \n",
    "    return [x for x in minlcs if any([ x < y for y in otherlcs])]\n",
    "\n",
    "\n",
    "fasta_sequences = SeqIO.parse(open(\"rosalind_lcsm.txt\"), 'fasta')\n",
    "strands = [(fasta.id, str(fasta.seq)) for fasta in fasta_sequences]\n",
    "\n",
    "multilcs([x[1] for x in strands])[0]"
   ]
  },
  {
   "cell_type": "code",
   "execution_count": null,
   "metadata": {
    "collapsed": true
   },
   "outputs": [],
   "source": []
  }
 ],
 "metadata": {
  "kernelspec": {
   "display_name": "Python 3",
   "language": "python",
   "name": "python3"
  },
  "language_info": {
   "codemirror_mode": {
    "name": "ipython",
    "version": 3
   },
   "file_extension": ".py",
   "mimetype": "text/x-python",
   "name": "python",
   "nbconvert_exporter": "python",
   "pygments_lexer": "ipython3",
   "version": "3.5.1"
  }
 },
 "nbformat": 4,
 "nbformat_minor": 0
}
