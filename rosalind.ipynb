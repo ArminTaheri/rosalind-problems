{
 "cells": [
  {
   "cell_type": "code",
   "execution_count": 2,
   "metadata": {
    "collapsed": false
   },
   "outputs": [
    {
     "name": "stdout",
     "output_type": "stream",
     "text": [
      "Rosalind_1514\n",
      "52.94840294840295\n"
     ]
    },
    {
     "name": "stderr",
     "output_type": "stream",
     "text": [
      "/home/armin/local/Anaconda/lib/python3.5/site-packages/Bio/Seq.py:341: BiopythonDeprecationWarning: This method is obsolete; please use str(my_seq) instead of my_seq.tostring().\n",
      "  BiopythonDeprecationWarning)\n"
     ]
    }
   ],
   "source": [
    "from Bio import SeqIO\n",
    "\n",
    "fasta_sequences = SeqIO.parse(open(\"data/rosalind_gc.txt\"), 'fasta')\n",
    "\n",
    "seqs = []\n",
    "for fasta in fasta_sequences:\n",
    "    name, sequence = fasta.id, fasta.seq.tostring()\n",
    "    seqs.append((name, sequence))\n",
    "\n",
    "def gc(seqn):\n",
    "    name, seqnc = seqn\n",
    "    gconly = [z for z in seqnc if z in ['G', 'C']]\n",
    "    return (name, 100.0 * len(gconly) / float(len(seqnc)))\n",
    "\n",
    "print(\"%s\\n%s\" % max(map(gc, seqs), key=lambda z: z[1]))\n"
   ]
  },
  {
   "cell_type": "code",
   "execution_count": 3,
   "metadata": {
    "collapsed": false
   },
   "outputs": [],
   "source": [
    "def hamming(seqs):\n",
    "    xs, ys = seqs\n",
    "    return len([(x,y) for x,y in zip(xs, ys) if x != y])\n"
   ]
  },
  {
   "cell_type": "code",
   "execution_count": 4,
   "metadata": {
    "collapsed": false
   },
   "outputs": [
    {
     "data": {
      "text/plain": [
       "0.7520569620253165"
      ]
     },
     "execution_count": 4,
     "metadata": {},
     "output_type": "execute_result"
    }
   ],
   "source": [
    "def countpairwise(n):\n",
    "    return n*(n-1)/2.0\n",
    "\n",
    "def mendel(k,m,n):\n",
    "    total = countpairwise(k+m+n)\n",
    "    \n",
    "    i1 = k*m + k*n + (2/4)*m*n\n",
    "    i2 = countpairwise(k)\n",
    "    i3 = countpairwise(m) * (3.0 / 4.0)\n",
    "    return (i1+i2+i3)/total\n",
    "\n",
    "mendel(26, 28, 26)"
   ]
  },
  {
   "cell_type": "code",
   "execution_count": 5,
   "metadata": {
    "collapsed": false
   },
   "outputs": [
    {
     "data": {
      "text/plain": [
       "'MTLCESLGAARTHHRSGQPTSKVGDHSWRVIRAARPNVRVFALNPMSRSSRPSDFNIHKIIMPAEQPSGGFTILYYGYPTEGVDPKSTNKIPGCSAYRKRVCGRDFEGVVDYWQRCGRVCAIANAELKPVLDGPRTVTLLNCGYASALTRSACPRRFRGVSFPLYWLRTSQDTFNVRLSIYRMGVLDILLAYGLQQRNNRCNARRGPQNAYEYHRGQRRHVGLNKYRDFAYTIVNNLSGRAIRSLLLKGARRFHVFYKIGSHLERAGSPRIECLSLRAKGLRDIFQPLRLDSDIRINLPDKVLGESAYTLSKARGLVTLVPKPAIVYQGASRYTRHQEQKELCRHFLSCFAAIFTDLSYLHCCYIELQLALFRLACQARAVYQGRLPESISPQGKNARLKRFECRTRLNRAEPLRPVWWYARIAQDRLRPGRILCRCYECFGQQPCPLSKHGSVCDRAQEMTKLSVRQRILGDGMSWGNLSMSPLWYYNAHVYLSEYTRVSVNSNPHSKSATKGGREHWRHVGHKTKACTVLQFRPPPRGPCRTIRFQGAVIQVAYISCIAMYILYTHMGSLCTWRSGAVMQTEIAQQLRIFTGGSSSALSRGPSPERWPSWILVVNPHHSPVPRGSPAVNQTTHVPCGAAGIVSIYEKMPILYPLELRFRADNRERYATQSSRDSIHCGLRRTVVPQSVTHKEAAQRKRSRLSPGGRNSRGARKQAIVHSCGFEAGIVLSRWITISTDIAGRLSVSINLRGVERNLELDAGQGSGPSIGRPDSGPPCRGITRLRVHSMMWRLDRTSLYDSTTRGVHLPLKLCQSGPQAPLRVVSLALQPENTATNQALFRLYSYVGTCNDAVGRSQDENLRTVVHVAVETLALVAEPWDGCPYQECKSWYNACTPRVKVTDHSPRRRQFKEAYIVVVGRSISSDETLARSSFSIHQPFTVRSSGLRPSLESTPRALWRTIDIPLDASLTGRSLAFSSSSNIWWVWAVSYDLYRHHEGVTSLFVRAGPTLDAFPFRGQTTGSRGPLSDYVRGAVLPWCSDRYKTESAHVEHSASTHVNLRLGITLRAGVVSKGQPRYRCCIAPSAMPASLLILQVITYTYNSTTLNGSTTRRQVPCSGIVWRRRLASLGWRNLQYLKSTETDDPHIGCGVADCSMSRKRHVNIPSLLIAFGESADLCRSSVGGTEFKTPVAWSSRSTPSSAEIFRPESFLLPSSRNCFKRSHEREYEITDSLNCLVSTYEPIFTCGKIHSAYIGRLPRVEGSADYSFVRSIVRWPNWLADLYSLLVPKIRSVTDGSGHLFDIVRYLCPQNCWQAQKLPFTRGLIRTGPFRVAVEGCPGVFMGQIGRVEWRPLHLVVSPSGGRSRRGNRNELQARPFTSIYKGVPRSLRILLRVYLTHRGFCCSVQKTRLVGKCSALCIPHMAFQDTARTLLIWDHRITTQQILHLASHSYNFLLPVRDHQDSCDREYKSLPHRSSTRASCYPRIYSSRCGISPETSIGRGARSGLCGIWQSALHKRTSEVIWRTRTGISIHACTRTVSEKPCNERFARKTLNYMGRITYLRNKPTPLCMKHATGPFVFRPTFLLIVSNLSTVGKLQQEQPVFIPYHPQSDLCRWYPQTRREPAPKLESKNSQAALTAKNIELLAVVTEKCIAVLVGNTADMIICQVLGRLTLCQLPKEPKYNLCPTRVSEACYPSQSARDQPVLGIVETVPVQLYASFNPLANEIYNLSMIRCRWSAQCSLARVLLGCLHKSLLFRIRWPNRKIRTPLLRVLVIREPYRLATDLCALHHPPGYALRLRALSHSPGGGSSFDDVSAIYRRTLCFQISITEAPRIFCTLRARTKVGSIMDECVDGPFLLRTLRLQSDIGAVIPRRARHRVLITLNFRYPRFHRSTPRRASLPSQVSNSASIPLLQLLPQRMIAVFHRQRDERRAGRDSQEREHVFHGGYAPLLQTRLSVPIVPRQYSKVTPLREVNHCTRLRPARVCAALLPILTRRVAYTEAYSGRGIGRIREMPRFNDPRSTEWADQLPAGTTVESVYYDGRLANEHTRRPGLCLSHTKQNICICSILDGQLNLARLSCGDALESNRDDAVSLVIADWLFSSKLTTGSKTYRLSRPADRPRALLASGKRARASHCRRAVLLQRPFYVRFLVRLNNFSGVRVAVSSFKIRCSRAVGLLSVWEGRSSRAGRPTIRGIFGLCARVLRAGRAVAFCVQRCMVRSSDLSQSSVPRHDLHLSGQVQSRQQRESQGGRTSEGIYAGPVTQDSLQYKNIGPSQIRGRDFRIRSTHQTPVCTARRIRSDKIWVLPDSALRKPNGYPSTRCIPAHKETLCHSSVIAVTSPALIPRIGIKKASSGTLLVSERQEGLLRPKYLRLISTEPLDAQKVYGGGPKILLLSNLMVCTAIACGDQKVHPSSRWSAEQNRWDQLRAKASLHPNQRSGLFPVRLQAFIYTPSTTFLLSPCNGNRKSSSSMRALSVCSTPRYGNHRFLESPSYPILTMGSVLVLYFGSLLMEKALQRLGRGDWVRGNTHSPVDLVRCHPKGFLNNLLFLPLFYVSNARKRGLGSSFPSQVAQIRWTQTRAIRRSRDTCTTCSTAGHTALDSPCNLIPALRGDSGVKRNGYGDVTTLISLAHSNRPTRKCLSETDISTLPPRRVISRFTSQTWLIKLGLGGHAGCPRVPSLRILRLRTTASSIEIGYSLKKSGKWTDVAPCIMRVGSENLTHCRLCNRKLSAIDIPRKWLAFLRSALMSLLWNVFLSANRNRSAFVAPARQTSGVLKFYSNGTQYQVPLPFHLLMPCGNTGYRFWILQSKERAWTRPGRNNSRFDSVSNVCSGNQLSLTRMMVASSGFGHDKNLYALSAGGKSGAFRSPLVTRSHSCISAHVHGWERRIFTDTPETQFHHLASIPTTTTSPKGGRLGSGVASSEQAVGSYKATLDGEPSVKACLRAPTPFLQEYDRAFIRNLSPSLCIGLENDPTAVLTVNDPKRRCTNPYSEPREGHMIMPAWLPTSGIALIITERTGFSMIPCEGQRGTLRKNRPICLPLTIWTSHCFVSLTSRLNCDGHG'"
      ]
     },
     "execution_count": 5,
     "metadata": {},
     "output_type": "execute_result"
    }
   ],
   "source": [
    "rnaToP = {\n",
    "  \"UUU\": \"F\",\n",
    "  \"CUU\": \"L\",\n",
    "  \"AUU\": \"I\",\n",
    "  \"GUU\": \"V\",\n",
    "  \"UUC\": \"F\",\n",
    "  \"CUC\": \"L\",\n",
    "  \"AUC\": \"I\",\n",
    "  \"GUC\": \"V\",\n",
    "  \"UUA\": \"L\",\n",
    "  \"CUA\": \"L\",\n",
    "  \"AUA\": \"I\",\n",
    "  \"GUA\": \"V\",\n",
    "  \"UUG\": \"L\",\n",
    "  \"CUG\": \"L\",\n",
    "  \"AUG\": \"M\",\n",
    "  \"GUG\": \"V\",\n",
    "  \"UCU\": \"S\",\n",
    "  \"CCU\": \"P\",\n",
    "  \"ACU\": \"T\",\n",
    "  \"GCU\": \"A\",\n",
    "  \"UCC\": \"S\",\n",
    "  \"CCC\": \"P\",\n",
    "  \"ACC\": \"T\",\n",
    "  \"GCC\": \"A\",\n",
    "  \"UCA\": \"S\",\n",
    "  \"CCA\": \"P\",\n",
    "  \"ACA\": \"T\",\n",
    "  \"GCA\": \"A\",\n",
    "  \"UCG\": \"S\",\n",
    "  \"CCG\": \"P\",\n",
    "  \"ACG\": \"T\",\n",
    "  \"GCG\": \"A\",\n",
    "  \"UAU\": \"Y\",\n",
    "  \"CAU\": \"H\",\n",
    "  \"AAU\": \"N\",\n",
    "  \"GAU\": \"D\",\n",
    "  \"UAC\": \"Y\",\n",
    "  \"CAC\": \"H\",\n",
    "  \"AAC\": \"N\",\n",
    "  \"GAC\": \"D\",\n",
    "  \"UAA\": \"Stop\",\n",
    "  \"CAA\": \"Q\",\n",
    "  \"AAA\": \"K\",\n",
    "  \"GAA\": \"E\",\n",
    "  \"UAG\": \"Stop\",\n",
    "  \"CAG\": \"Q\",\n",
    "  \"AAG\": \"K\",\n",
    "  \"GAG\": \"E\",\n",
    "  \"UGU\": \"C\",\n",
    "  \"CGU\": \"R\",\n",
    "  \"AGU\": \"S\",\n",
    "  \"GGU\": \"G\",\n",
    "  \"UGC\": \"C\",\n",
    "  \"CGC\": \"R\",\n",
    "  \"AGC\": \"S\",\n",
    "  \"GGC\": \"G\",\n",
    "  \"UGA\": \"Stop\",\n",
    "  \"CGA\": \"R\",\n",
    "  \"AGA\": \"R\",\n",
    "  \"GGA\": \"G\",\n",
    "  \"UGG\": \"W\",\n",
    "  \"CGG\": \"R\",\n",
    "  \"AGG\": \"R\",\n",
    "  \"GGG\": \"G\"\n",
    "}\n",
    "\n",
    "def translate(seqc,acc):\n",
    "    if len(seqc) < 3:\n",
    "        return True, acc \n",
    "    triple = ''.join(seqc[0:3])\n",
    "    prot = rnaToP[triple]\n",
    "    if prot == \"Stop\":\n",
    "        return True, acc \n",
    "    return seqc[3:len(seqc)], acc + [prot]\n",
    "\n",
    "f = open(\"data/rosalind_prot.txt\")\n",
    "seqc = f.read()\n",
    "acc = []\n",
    "while seqc != True:\n",
    "    seqc, acc = translate(seqc, acc)\n",
    "f.close()\n",
    "\n",
    "''.join(acc)"
   ]
  },
  {
   "cell_type": "code",
   "execution_count": 6,
   "metadata": {
    "collapsed": false
   },
   "outputs": [
    {
     "name": "stdout",
     "output_type": "stream",
     "text": [
      "TAATAGCTAATAGCCGCGTAATAGCCCTGTTGTCATAATAGCCGTAATAGCTAATAGCTAATAGCCTAATAGCTAATAGCAGACTACGAGTAATAGCTCTAATAGCCGTAATAGCTAATAGCTAATAGCTAATAGCTTATCTTAATAGCTAATAGCTTAATAGCTAATAGCTTAATAGCTTTTGTCCACGGGCTTCCTAATAGCTAGTTAATAGCTAATAGCGATAATAGCAGCTAATAGCGGTAATAGCTAATAGCCTAATAGCATAATAGCTAATAGCAAAGATAATAGCTAATAGCCTGCCTATATAATAGCGTAATAGCCTAATAGCATAATAGCGGATAATAGCCTACTAATAGCTAATAGCAATAATAGCTTCCTAATAGCAAGGATAATAGCGAGGTCTAATAGCTCCGACTTTAATAGCGGTAATAGCATTAATAGCCCACCATAATAGCGTAATAGCACCTTAATAGCGGTAATAGCTTCAATATAATAGCATAATAGCTAATAGCTAAGAGACTGTAATAGCGGGGGGGAATTAATAGCTAATTGAGAAACTTTAATAGCTAATAGCCCTGGTTTTAATAGCTAATAGCAAGTAATAGCTAATAGCTAATAGCATCGTAATAGCAGATAATAGCGCCGTTAATAGCTTTAATAGCAATATAATAGCCCGCGGTAATAGCATAATAGCAGGATAATAGCTAATAGCTAATAGCTATATAATAGCGGTAATAGCCAATAATAGCCATGCTTTACCGCTTAATAGCACTTAATAGCAATAATAGCACTAATAGCCGATTAATAGCGCGCTATAATAGCACCCTAATAGCCATAATAGCGGATTAATAGCTGTAATAGC\n",
      "TAATAGCTA\n"
     ]
    },
    {
     "data": {
      "text/plain": [
       "'1 267 143 286 158 543 45 52 564 702 67 709 198 586 716 209 603 354 610 109 116 244 502 123 509'"
      ]
     },
     "execution_count": 6,
     "metadata": {},
     "output_type": "execute_result"
    }
   ],
   "source": [
    "def findin(haystack, pin):\n",
    "    print(haystack.rstrip())\n",
    "    print(pin.rstrip())\n",
    "    i = haystack.find(pin)\n",
    "    res = []\n",
    "    while i != -1:\n",
    "        res = res + [i + len(res)]\n",
    "        haystack = haystack[1:len(haystack)]\n",
    "        i = haystack.find(pin)\n",
    "    return [x+1 for x in list(set(res))]\n",
    "\n",
    "f = open(\"data/rosalind_subs.txt\")\n",
    "haystack = f.readline().rstrip()\n",
    "pin = f.readline().rstrip()\n",
    "res = ' '.join([str(x) for x in findin(haystack, pin)])\n",
    "f.close()\n",
    "res"
   ]
  },
  {
   "cell_type": "code",
   "execution_count": 7,
   "metadata": {
    "collapsed": false,
    "scrolled": true
   },
   "outputs": [
    {
     "name": "stdout",
     "output_type": "stream",
     "text": [
      "ACTCCCCAGCATTCTAACTGTGGGATACAACAGTGGCTGGACATACCCACGTTTAAGTAAGGAACAGGAAGCCAGACGAACGTAGCCCAAAGACATGGTTCCACCACAGAGCTTCCCTTCGTGCTAGGGCGACACGATCTCTCCGAAACAATAACGGCGAGGGGTAACCAAAATAGACCAGCACAAACTCAATAATGGCGCAAAACACCAAAACTCCACCGAATGCAAAGGTAAATTCAGATCCACAAAGTCCGCGAGGCTGCCGAGTGCGTCCCCCGACTAAGAAAAGGCGACGGCCGCAGACTCGGGAACTGACGTATTAGAACAGGTGCCAAGCAACCTGCAGTGGAGGCAGAACCGCATAAAATCAAGGCACCACGTACTGGTCAGCACGACACCAGTTACAGCAGCCTTCGGATTACCCGGTGACGGGACATTGGCTTACCCGACCCCAAATAGCGTCCCCCTTACAAATTACTAACCACCTTTAGAAACCCGGGATCTGCAACCGAGCAGGCAGAACCCGGGCCGGCGCTGTACTCCCGGCCCATCTCACATGCTAGTCGGACCACGTCACATGATGCGCCCCAATTCGTCCAGGAACACCCCAAGAAAAAACGTTGCCTAGGCGAAAATTTACCGGAATTACGACTAGGGCACAGGTAGTGGAATTTTATGAAACTAGAGTGCAGCCTAAGGCGTTCGGCAGATGCAATTCCCTTATAGCTTCTGCCAAATAAAAAAGCACCAATTCCCCCCTGTCAGTATAGAAACACAGGTAAAGGAATCCACGAGTCCAAGGCCGTAGATGTCGGGCTCACAAGACAACATGTAGCAGAAGCTGGAACCCAAAAATCAGTAAAGAAGGCGCCTCGGGCTACCAACGGAAGCGAGAAGATAAGAGACAACGCATACACGACCGCATAGCA\n",
      "A: 4 2 2 2 1 1 2 3 0 2 4 0 1 2 3 4 4 2 2 3 3 2 2 2 3 2 4 3 3 3 1 3 2 1 2 3 2 3 3 2 4 3 4 1 4 3 3 3 4 3 2 3 1 1 4 3 2 2 5 4 3 0 4 3 1 3 2 2 3 4 2 3 3 5 1 3 2 2 3 4 3 3 3 3 3 3 2 3 4 4 3 1 4 3 4 0 2 2 2 2 2 3 5 2 2 4 2 5 2 3 1 2 1 2 0 1 1 0 1 2 0 1 2 0 1 6 1 2 0 2 2 4 2 5 1 4 3 2 0 1 3 3 2 0 1 4 5 3 2 3 4 3 3 3 3 3 3 2 1 3 3 1 0 2 2 4 3 1 1 3 4 4 4 0 4 1 3 1 1 3 0 1 5 2 3 3 4 3 1 1 4 4 1 4 5 3 1 2 3 2 0 3 4 5 4 3 4 1 1 4 4 4 3 2 1 2 0 6 0 2 2 5 4 2 3 2 3 4 5 2 2 3 4 4 4 1 2 2 4 1 5 1 1 2 5 1 3 3 4 1 2 2 2 3 2 1 3 2 2 3 2 1 2 2 2 3 2 3 1 2 0 1 2 2 2 3 2 2 4 1 0 4 5 1 3 4 4 5 1 3 2 3 7 1 2 1 2 3 2 2 3 3 3 1 2 2 2 1 4 5 3 1 1 1 4 1 3 2 7 3 1 3 3 4 3 3 4 3 2 0 1 2 2 3 5 2 3 6 4 2 1 1 4 2 4 2 1 3 3 3 1 3 2 4 0 4 3 1 1 2 1 4 2 3 3 3 4 1 2 3 3 0 1 0 5 2 3 3 2 2 0 5 3 1 1 3 1 2 3 2 1 3 1 2 3 0 3 2 2 3 2 1 2 3 2 3 2 0 3 4 2 3 3 3 1 3 2 3 1 3 4 2 2 2 3 2 1 0 3 2 1 3 1 6 1 4 0 0 2 1 1 3 3 4 1 2 0 2 3 1 3 2 0 6 3 3 2 4 2 2 2 3 2 2 3 0 1 0 0 4 2 5 4 5 3 3 3 1 1 5 6 3 2 6 1 1 3 3 2 3 1 3 4 3 3 0 2 3 2 2 3 0 2 2 2 1 4 4 2 2 1 3 2 2 6 3 0 1 5 3 3 3 4 1 2 2 1 2 2 1 0 3 1 0 3 2 2 3 3 2 0 1 2 0 1 0 2 3 2 3 3 2 2 2 3 2 3 3 3 3 3 4 2 1 2 0 3 3 2 0 3 2 2 1 2 4 1 4 1 2 4 1 2 3 2 2 2 1 3 4 4 2 3 1 1 2 3 1 4 2 2 5 4 3 3 2 1 1 3 3 4 2 5 5 3 3 4 4 2 1 3 2 2 2 2 0 3 2 1 2 2 3 3 3 5 1 3 1 4 2 2 2 3 3 5 3 0 3 2 0 3 4 3 4 3 1 3 2 3 2 5 0 2 1 5 2 1 2 2 3 3 1 1 2 2 5 1 2 3 5 6 2 1 4 1 4 0 1 2 3 4 1 2 3 2 4 5 3 3 2 2 3 2 2 2 1 1 5 2 3 2 3 3 3 3 2 2 3 3 2 2 1 3 3 4 3 2 1 0 3 1 2 1 0 4 4 3 2 3 5 3 3 3 3 0 1 4 2 1 4 4 1 3 4 1 2 2 2 3 1 2 1 2 3 2 3 5 3 5 0 3 3 3 2 4 2 5 2 3 1 3 3 4 2 1 4 4 2 2 1 5 2 2 6 3 3 3 1 5 4 3 2 3 2 1 2 3 0 4 1 1 2 2 1 2 2 2 2 2 4 3 5 3 1 3 2 4 4 2 3 1 1 0 5 3 1 5 3 3 4 2 1 2 2 4 4 3 1 1 1 5 5 3 4 6 3 1 3 1 3 3 5 4 2 4 4 1 2 1 2 2 1 2 3 3 3 1 3 4 4 2 3 3 3 1 1 2 3 4 3 3 3 4 2 3 3 2 3 0 3 3 2 4 3 3 1 4 5 2 2 2 3 2 3 1 3 2 1 3 1 0 0 1 4 3 4 1 1 4\n",
      "C: 4 3 3 3 4 4 4 2 3 4 1 3 2 4 1 2 0 4 2 1 1 2 2 1 1 2 1 4 3 3 3 3 2 3 1 0 4 1 0 2 1 4 3 2 3 5 4 4 1 4 2 1 3 3 4 2 3 2 3 2 1 1 3 3 5 2 2 0 2 0 2 4 4 1 2 3 4 2 2 3 4 1 0 2 2 4 3 4 0 3 3 3 2 4 2 2 1 2 2 0 3 4 3 3 3 1 4 2 1 3 3 4 2 3 5 4 3 3 3 5 1 2 2 5 2 2 2 2 2 4 3 2 4 1 4 0 2 3 6 2 5 2 3 4 2 2 2 2 5 2 1 2 2 2 4 1 1 4 1 3 0 2 3 2 2 2 2 5 4 1 2 2 0 3 2 1 3 5 3 3 2 5 3 4 2 2 1 4 3 4 2 4 2 3 2 1 2 1 4 2 4 1 2 2 2 5 4 4 4 2 2 1 3 5 3 3 5 2 4 5 2 1 2 1 1 5 1 4 2 2 2 2 3 2 2 0 1 3 3 3 1 1 5 3 2 4 2 2 3 2 1 4 3 2 6 1 3 2 3 4 2 2 3 4 2 2 2 0 3 3 4 3 5 4 4 5 4 1 3 4 3 1 1 1 1 3 3 2 0 1 3 2 0 4 3 2 4 4 2 3 3 1 2 5 0 5 0 2 0 2 2 4 3 1 1 4 1 3 0 2 2 3 1 1 1 4 2 2 1 3 1 4 5 2 2 2 4 2 4 4 4 3 1 4 0 1 2 1 1 3 2 2 5 0 3 3 2 5 3 2 5 2 1 2 1 1 1 1 3 3 3 2 2 5 2 5 5 3 4 3 2 2 5 3 1 0 1 5 1 0 4 3 4 1 3 5 3 4 4 2 2 2 1 2 3 2 2 5 1 0 4 4 1 1 3 2 0 3 3 1 4 4 3 3 1 0 2 3 2 5 3 0 2 2 5 3 3 0 2 1 6 3 2 4 6 6 4 2 3 3 4 4 5 2 3 2 2 1 2 3 2 2 4 4 4 4 6 4 2 3 5 0 2 3 3 2 2 4 2 0 2 4 3 2 5 4 2 3 1 3 1 3 1 2 4 4 4 1 2 1 3 3 4 1 2 3 1 1 4 4 3 3 1 4 0 2 2 5 0 2 3 3 5 6 4 2 2 2 4 4 2 2 5 0 4 2 2 3 2 5 3 5 4 4 2 2 3 5 5 2 2 3 2 3 1 4 3 0 3 4 2 2 2 2 3 4 0 3 5 5 3 3 3 3 3 2 4 1 3 2 1 2 1 5 3 5 3 3 4 2 2 2 0 3 2 2 4 4 2 3 1 1 2 6 3 4 5 4 4 3 1 1 3 1 3 1 1 2 4 1 1 0 2 4 3 1 3 0 1 3 3 2 2 2 4 3 1 2 2 3 4 3 1 3 1 2 3 3 5 3 3 5 1 3 3 3 0 5 1 3 0 3 2 2 2 1 3 2 1 3 3 2 2 3 1 3 3 2 3 1 0 4 2 1 2 1 3 1 2 5 4 1 3 6 1 1 1 1 2 3 2 1 2 3 2 1 5 2 3 1 2 0 4 3 2 2 1 4 5 4 1 3 3 0 4 2 3 4 2 4 2 2 4 5 3 4 3 1 2 0 3 3 2 2 3 4 2 4 4 1 1 2 1 5 5 3 3 3 4 3 2 3 3 2 2 2 2 0 1 1 2 2 3 5 2 3 3 1 2 3 1 2 3 3 4 4 4 3 5 6 2 4 2 2 3 1 4 7 0 4 2 3 4 4 3 0 2 3 1 3 3 3 3 1 2 1 5 2 3 4 4 1 3 1 2 3 3 1 5 2 1 1 4 1 3 4 3 2 2 1 2 3 3 2 1 2 3 3 4 5 2 1 2 3 2 1 5 3 2 2 1 3 2 2 3 2 3 2 5 3 3 3 2 4 1 2 2 4 1 1 3 5 2 2 5 3 1 3 0 0 5 2 2 2 3 3 1 3 3 3 1 2 0 2 3 4 1 4 4 2 3 3 2 3 4 3 5 3 1 5 4 1 3 3 3 3 2 3 0\n",
      "G: 2 3 1 2 3 1 3 2 4 1 3 2 3 3 2 3 4 3 2 4 1 3 5 4 3 1 2 1 2 1 3 2 5 2 4 4 2 1 4 3 3 1 2 2 2 1 3 2 2 2 4 2 2 1 1 3 4 2 0 1 4 5 2 1 2 3 4 8 2 2 3 1 0 2 4 1 2 3 2 0 0 4 2 3 4 1 2 2 4 3 3 4 2 2 0 3 4 3 2 3 3 3 2 2 2 2 1 1 6 2 5 2 3 1 4 1 3 3 2 1 6 3 3 1 3 2 5 3 4 2 4 3 2 2 4 5 2 1 3 1 1 1 3 4 4 1 1 3 0 3 4 1 2 3 1 4 5 1 4 2 4 4 5 5 2 3 3 2 2 3 2 2 3 3 0 5 1 1 3 2 4 1 0 2 3 3 2 0 1 2 2 0 1 2 2 0 5 4 2 4 4 3 1 1 2 1 0 4 2 0 2 2 1 1 2 3 3 1 2 1 4 2 1 3 4 1 3 1 1 4 4 1 3 1 3 4 3 2 2 6 3 3 1 2 1 4 3 3 2 4 2 4 2 4 0 5 3 4 4 2 2 5 2 3 3 2 4 3 4 3 5 0 3 2 2 0 3 4 3 2 3 1 2 5 3 2 1 2 5 6 3 4 1 1 4 4 2 0 4 2 2 5 3 1 3 1 4 4 6 2 2 4 2 5 1 2 4 1 0 1 3 2 4 4 3 2 1 4 4 3 6 3 2 3 2 4 1 0 1 2 3 2 5 2 3 4 2 4 4 2 4 5 3 3 6 2 3 3 3 3 2 3 2 2 3 3 3 3 2 1 1 5 4 1 2 1 1 1 3 4 2 0 0 2 5 4 3 0 3 4 4 2 4 4 2 3 3 3 1 3 5 3 3 2 3 3 4 3 3 5 2 2 2 1 3 4 4 2 0 0 1 1 3 2 4 5 3 4 3 3 5 6 5 1 2 1 2 3 3 6 2 0 1 1 1 1 3 3 2 3 2 2 2 1 2 2 2 3 3 3 3 1 2 3 1 2 1 1 2 0 1 3 0 0 0 1 2 2 3 3 1 1 3 1 1 2 1 0 3 1 5 2 2 2 1 4 0 5 5 5 1 3 2 3 3 3 3 4 1 3 4 3 4 3 4 4 4 2 1 5 3 2 1 1 1 3 4 3 3 2 4 4 1 5 1 1 4 0 2 1 2 1 3 4 4 5 3 1 1 2 1 2 1 2 3 1 1 2 4 1 1 4 3 3 2 5 6 3 1 2 2 3 4 1 3 1 2 3 1 4 2 2 4 0 4 2 3 3 2 1 2 2 3 3 4 2 1 2 4 5 4 2 3 0 2 3 3 3 0 3 4 5 1 1 1 3 3 3 2 5 2 2 3 2 3 3 1 5 4 3 4 3 2 3 1 0 1 1 2 3 1 4 4 2 2 0 3 2 1 4 1 1 2 2 4 4 5 1 3 3 2 4 3 0 1 4 2 3 5 3 3 3 3 1 2 1 2 5 2 3 2 1 2 2 6 4 5 3 4 1 1 4 2 0 3 1 3 5 4 3 3 2 2 2 3 5 3 1 4 3 2 5 1 1 3 1 3 1 0 4 3 1 3 3 1 5 3 0 3 2 3 6 2 4 1 2 2 3 2 2 1 2 2 2 4 2 2 3 1 1 1 3 0 0 2 2 3 3 1 2 5 1 3 3 4 1 2 2 1 7 3 3 1 2 1 3 0 5 4 1 3 2 1 4 5 2 2 0 2 2 1 1 3 0 4 2 1 1 3 2 4 4 3 0 5 2 3 4 2 2 4 1 3 4 3 7 2 2 3 0 1 1 2 4 3 2 1 1 2 2 3 5 1 1 4 2 2 4 3 3 3 3 1 3 5 1 2 3 3 2 0 1 2 3 1 2 0 2 4 1 3 2 4 3 0 2 4 3 1 4 3 3 2 1 4 5 4 0 0 2 3 2 3 2 4 4 4 2 4 4 1 4 4 3 2 3 5 3 1 2 3 3 2 5 1 4 1 1 2 5 2 3 1 3 1 2 0 6 3 2 4 5 3 1 0 2 4 3 3\n",
      "T: 0 2 4 3 2 4 1 3 3 3 2 5 4 1 4 1 2 1 4 2 5 3 1 3 3 5 3 2 2 3 3 2 1 4 3 3 2 5 3 3 2 2 1 5 1 1 0 1 3 1 2 4 4 5 1 2 1 4 2 3 2 4 1 3 2 2 2 0 3 4 3 2 3 2 3 3 2 3 3 3 3 2 5 2 1 2 3 1 2 0 1 2 2 1 4 5 3 3 4 5 2 0 0 3 3 3 3 2 1 2 1 2 4 4 1 4 3 4 4 2 3 4 3 4 4 0 2 3 4 2 1 1 2 2 1 1 3 4 1 6 1 4 2 2 3 3 2 2 3 2 1 4 3 2 2 2 1 3 4 2 3 3 2 1 4 1 2 2 3 3 2 2 3 4 4 3 3 3 3 2 4 3 2 2 2 2 3 3 5 3 2 2 6 1 1 6 2 3 1 2 2 3 3 2 2 1 2 1 3 4 2 3 3 2 4 2 2 1 4 2 2 2 3 4 2 2 3 1 2 2 2 4 0 3 1 5 4 3 1 0 1 5 3 3 2 1 2 2 1 3 5 0 3 1 2 3 1 2 1 1 4 2 3 1 3 3 2 4 2 2 1 6 0 2 2 2 1 3 0 3 4 4 2 3 3 1 2 1 4 0 2 1 2 4 1 3 2 3 2 3 2 1 2 3 5 2 4 3 0 1 3 1 4 3 4 3 2 4 3 4 4 2 2 1 3 1 3 1 3 4 2 1 1 2 1 2 2 2 1 2 2 4 0 2 3 3 5 2 2 2 3 0 0 3 1 1 2 1 3 3 2 1 5 3 3 3 2 5 3 3 3 3 3 4 1 2 1 3 1 1 6 3 2 4 3 3 5 3 3 4 1 2 1 3 2 2 1 1 3 2 1 4 4 3 2 2 2 2 3 1 2 1 4 5 3 1 4 2 6 6 1 3 2 3 2 3 4 3 2 0 1 1 2 1 2 2 5 7 3 2 1 4 4 1 2 1 3 3 2 3 1 2 3 1 2 3 4 2 3 2 3 4 2 1 2 4 2 5 6 3 2 2 4 2 4 4 3 3 4 2 1 2 2 1 3 3 4 4 4 3 3 2 3 3 2 2 4 1 1 2 3 4 2 4 3 3 2 1 3 1 2 1 3 1 0 1 4 2 4 0 1 2 0 2 3 3 3 3 1 3 4 1 3 5 2 5 2 4 3 2 5 3 1 2 3 3 2 1 2 3 4 3 5 3 3 3 3 5 0 2 4 0 3 4 3 1 1 1 2 3 2 2 1 5 2 3 3 2 5 2 3 5 3 2 1 1 2 3 1 3 2 4 4 3 3 4 2 3 0 0 3 2 1 1 2 1 1 2 3 1 1 2 1 3 3 3 2 1 2 3 4 6 3 2 2 6 3 3 4 2 1 2 3 2 0 6 5 6 2 2 3 1 2 2 2 5 4 2 2 3 3 0 4 1 0 2 2 2 3 2 3 3 3 7 2 3 4 3 2 1 1 4 4 4 5 1 4 1 2 1 2 3 5 3 1 1 2 5 2 1 1 4 3 1 4 4 1 1 1 2 3 4 4 3 3 3 1 2 1 3 4 2 2 3 2 5 4 2 2 0 4 5 1 4 1 0 2 5 5 1 4 0 3 1 2 0 2 4 3 3 3 2 3 3 3 3 2 1 4 4 4 4 6 1 2 3 2 2 2 4 1 5 2 2 2 4 1 5 3 2 2 2 3 1 3 2 2 2 1 5 3 3 2 1 0 0 0 5 1 1 2 3 3 2 0 4 2 1 2 0 1 1 0 4 1 6 2 3 3 4 2 4 2 4 3 0 1 4 2 2 2 3 2 4 2 3 2 4 1 3 5 3 5 3 0 3 0 1 2 2 3 3 4 3 0 3 2 3 2 2 3 3 3 0 1 4 4 2 3 4 3 0 0 3 3 2 2 3 3 1 2 3 4 2 2 0 3 3 5 3 2 0 2 3 0 2 3 2 2 3 1 1 0 3 2 1 2 1 6 2 3 3 4 0 3 1 4 0 2 1 3 1 5 1 4 2 3 0 3 2 2 4 3 2 4 1 3 3 3\n"
     ]
    }
   ],
   "source": [
    "from Bio import SeqIO\n",
    "\n",
    "fasta_sequences = SeqIO.parse(open(\"data/rosalind_cons.txt\"), 'fasta')\n",
    "strands = [list(str(fasta.seq)) for fasta in fasta_sequences]\n",
    "\n",
    "def c(key, col):\n",
    "   return str(len([x for x in col if x == key]))\n",
    "\n",
    "nucleotides = ['A', 'C', 'G', 'T']\n",
    "profmat = [[c('A', x), c('C', x), c('G', x), c('T', x)]\n",
    "            for x in zip(*strands)]\n",
    "consensus = [nucleotides[l.index(max(l))] for l in profmat]\n",
    "profmat = zip(nucleotides, zip(*profmat))\n",
    "\n",
    "print(\"\".join(consensus))\n",
    "print(\"\\n\".join([k + \": \" + ' '.join(v) for k,v in profmat]))"
   ]
  },
  {
   "cell_type": "code",
   "execution_count": 8,
   "metadata": {
    "collapsed": false
   },
   "outputs": [
    {
     "data": {
      "text/plain": [
       "1093984671460515481"
      ]
     },
     "execution_count": 8,
     "metadata": {},
     "output_type": "execute_result"
    }
   ],
   "source": [
    "def mortal_rabbits(months, expectency):\n",
    "    seqc = [1,1]\n",
    "    while len(seqc) < months:\n",
    "        nex = sum(seqc[-2:])\n",
    "        if len(seqc) == expectency:\n",
    "            nex -= seqc[-expectency] \n",
    "        elif len(seqc) > expectency:\n",
    "            nex -= seqc[-(expectency+1)]\n",
    "        seqc.append(nex)\n",
    "    return seqc[-1]\n",
    "mortal_rabbits(88, 18)"
   ]
  },
  {
   "cell_type": "code",
   "execution_count": 9,
   "metadata": {
    "collapsed": false,
    "scrolled": true
   },
   "outputs": [
    {
     "name": "stdout",
     "output_type": "stream",
     "text": [
      "Rosalind_6974 Rosalind_4238\n",
      "Rosalind_6914 Rosalind_6403\n",
      "Rosalind_6914 Rosalind_2922\n",
      "Rosalind_7175 Rosalind_6403\n",
      "Rosalind_7175 Rosalind_2922\n",
      "Rosalind_4927 Rosalind_3916\n",
      "Rosalind_9916 Rosalind_0251\n",
      "Rosalind_9916 Rosalind_9473\n",
      "Rosalind_9916 Rosalind_1669\n",
      "Rosalind_9916 Rosalind_1958\n",
      "Rosalind_5073 Rosalind_6974\n",
      "Rosalind_5073 Rosalind_8132\n",
      "Rosalind_5073 Rosalind_1512\n",
      "Rosalind_5073 Rosalind_0693\n",
      "Rosalind_8781 Rosalind_3102\n",
      "Rosalind_8781 Rosalind_6142\n",
      "Rosalind_3102 Rosalind_6199\n",
      "Rosalind_8860 Rosalind_9276\n",
      "Rosalind_2264 Rosalind_5514\n",
      "Rosalind_2264 Rosalind_6339\n",
      "Rosalind_3404 Rosalind_9922\n",
      "Rosalind_4421 Rosalind_3549\n",
      "Rosalind_4421 Rosalind_1315\n",
      "Rosalind_0251 Rosalind_1692\n",
      "Rosalind_3617 Rosalind_1641\n",
      "Rosalind_3019 Rosalind_6403\n",
      "Rosalind_3019 Rosalind_2922\n",
      "Rosalind_2935 Rosalind_9276\n",
      "Rosalind_2330 Rosalind_4238\n",
      "Rosalind_3549 Rosalind_3916\n",
      "Rosalind_4238 Rosalind_3209\n",
      "Rosalind_4238 Rosalind_4012\n",
      "Rosalind_4238 Rosalind_2098\n",
      "Rosalind_5168 Rosalind_6808\n",
      "Rosalind_5168 Rosalind_7494\n",
      "Rosalind_5168 Rosalind_7491\n",
      "Rosalind_3541 Rosalind_9298\n",
      "Rosalind_3541 Rosalind_1030\n",
      "Rosalind_5341 Rosalind_3209\n",
      "Rosalind_5341 Rosalind_4012\n",
      "Rosalind_5341 Rosalind_2098\n",
      "Rosalind_5514 Rosalind_7175\n",
      "Rosalind_5514 Rosalind_2133\n",
      "Rosalind_5514 Rosalind_2966\n",
      "Rosalind_1669 Rosalind_1885\n",
      "Rosalind_1669 Rosalind_6842\n",
      "Rosalind_2836 Rosalind_1641\n",
      "Rosalind_6339 Rosalind_6403\n",
      "Rosalind_6339 Rosalind_2922\n",
      "Rosalind_6749 Rosalind_6914\n",
      "Rosalind_6749 Rosalind_4421\n",
      "Rosalind_6749 Rosalind_7471\n",
      "Rosalind_4621 Rosalind_5341\n",
      "Rosalind_4621 Rosalind_6147\n",
      "Rosalind_2342 Rosalind_3792\n",
      "Rosalind_4354 Rosalind_5934\n",
      "Rosalind_5934 Rosalind_0251\n",
      "Rosalind_5934 Rosalind_9473\n",
      "Rosalind_5934 Rosalind_1669\n",
      "Rosalind_5934 Rosalind_1958\n",
      "Rosalind_7279 Rosalind_0251\n",
      "Rosalind_7279 Rosalind_9473\n",
      "Rosalind_7279 Rosalind_1669\n",
      "Rosalind_7279 Rosalind_1958\n",
      "Rosalind_6403 Rosalind_6622\n",
      "Rosalind_3762 Rosalind_6403\n",
      "Rosalind_3762 Rosalind_2922\n",
      "Rosalind_1929 Rosalind_4354\n",
      "Rosalind_1929 Rosalind_5380\n",
      "Rosalind_1929 Rosalind_3574\n",
      "Rosalind_5380 Rosalind_3549\n",
      "Rosalind_5380 Rosalind_1315\n",
      "Rosalind_7494 Rosalind_7175\n",
      "Rosalind_7494 Rosalind_2133\n",
      "Rosalind_7494 Rosalind_2966\n",
      "Rosalind_6768 Rosalind_6974\n",
      "Rosalind_6768 Rosalind_8132\n",
      "Rosalind_6768 Rosalind_1512\n",
      "Rosalind_6768 Rosalind_0693\n",
      "Rosalind_1857 Rosalind_9276\n",
      "Rosalind_2133 Rosalind_6017\n",
      "Rosalind_8611 Rosalind_5168\n",
      "Rosalind_8611 Rosalind_7717\n",
      "Rosalind_7717 Rosalind_6199\n",
      "Rosalind_2053 Rosalind_9922\n",
      "Rosalind_6199 Rosalind_6808\n",
      "Rosalind_6199 Rosalind_7494\n",
      "Rosalind_6199 Rosalind_7491\n",
      "Rosalind_3792 Rosalind_6749\n",
      "Rosalind_3792 Rosalind_1650\n",
      "Rosalind_3792 Rosalind_3925\n",
      "Rosalind_3792 Rosalind_5974\n",
      "Rosalind_3209 Rosalind_2330\n",
      "Rosalind_3209 Rosalind_9409\n",
      "Rosalind_1315 Rosalind_5934\n",
      "Rosalind_1650 Rosalind_2342\n",
      "Rosalind_1650 Rosalind_7839\n",
      "Rosalind_1650 Rosalind_4703\n",
      "Rosalind_7839 Rosalind_3203\n",
      "Rosalind_7471 Rosalind_5168\n",
      "Rosalind_7471 Rosalind_7717\n",
      "Rosalind_4012 Rosalind_2715\n",
      "Rosalind_1958 Rosalind_3549\n",
      "Rosalind_1958 Rosalind_1315\n",
      "Rosalind_2922 Rosalind_5341\n",
      "Rosalind_2922 Rosalind_6147\n",
      "Rosalind_3925 Rosalind_4405\n",
      "Rosalind_1641 Rosalind_0406\n",
      "Rosalind_1641 Rosalind_2053\n",
      "Rosalind_2715 Rosalind_0251\n",
      "Rosalind_2715 Rosalind_9473\n",
      "Rosalind_2715 Rosalind_1669\n",
      "Rosalind_2715 Rosalind_1958\n",
      "Rosalind_7491 Rosalind_5073\n",
      "Rosalind_7491 Rosalind_2539\n",
      "Rosalind_2098 Rosalind_8860\n",
      "Rosalind_4703 Rosalind_6914\n",
      "Rosalind_4703 Rosalind_4421\n",
      "Rosalind_4703 Rosalind_7471\n",
      "Rosalind_5916 Rosalind_6749\n",
      "Rosalind_5916 Rosalind_1650\n",
      "Rosalind_5916 Rosalind_3925\n",
      "Rosalind_5916 Rosalind_5974\n",
      "Rosalind_1512 Rosalind_4405\n",
      "Rosalind_9409 Rosalind_5934\n",
      "Rosalind_0693 Rosalind_3209\n",
      "Rosalind_0693 Rosalind_4012\n",
      "Rosalind_0693 Rosalind_2098\n",
      "Rosalind_4869 Rosalind_2715\n",
      "Rosalind_6147 Rosalind_6403\n",
      "Rosalind_6147 Rosalind_2922\n",
      "Rosalind_3983 Rosalind_8860\n",
      "Rosalind_5217 Rosalind_6199\n",
      "Rosalind_1030 Rosalind_9087\n"
     ]
    }
   ],
   "source": [
    "from Bio import SeqIO\n",
    "\n",
    "fasta_sequences = SeqIO.parse(open(\"data/rosalind_grph.txt\"), 'fasta')\n",
    "strands = [(fasta.id, str(fasta.seq)) for fasta in fasta_sequences]\n",
    "\n",
    "def connected(x,y,k):\n",
    "    return x != y and x[-k:] == y[:k] \n",
    "\n",
    "graph = [(x[0],y[0]) \n",
    "         for x in strands \n",
    "         for y in strands \n",
    "         if connected(x[1],y[1],3)]\n",
    "\n",
    "print(\"\\n\".join([\"%s %s\" % e for e in graph]))"
   ]
  },
  {
   "cell_type": "code",
   "execution_count": 10,
   "metadata": {
    "collapsed": false
   },
   "outputs": [
    {
     "data": {
      "text/plain": [
       "160560.0"
      ]
     },
     "execution_count": 10,
     "metadata": {},
     "output_type": "execute_result"
    }
   ],
   "source": [
    "domProbs = [1.0, 1.0, 1.0, 0.75, 0.5, 0]\n",
    "\n",
    "def expectation(pops, offSpring):\n",
    "    return offSpring * sum([pop * p for (pop, p) in zip(pops, domProbs)])\n",
    "\n",
    "expectation([18855, 19867, 18691, 19126, 17045, 16627], 2)"
   ]
  }
 ],
 "metadata": {
  "kernelspec": {
   "display_name": "Python 3",
   "language": "python",
   "name": "python3"
  },
  "language_info": {
   "codemirror_mode": {
    "name": "ipython",
    "version": 3
   },
   "file_extension": ".py",
   "mimetype": "text/x-python",
   "name": "python",
   "nbconvert_exporter": "python",
   "pygments_lexer": "ipython3",
   "version": "3.5.1"
  }
 },
 "nbformat": 4,
 "nbformat_minor": 0
}
